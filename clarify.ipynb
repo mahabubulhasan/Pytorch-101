{
 "cells": [
  {
   "cell_type": "code",
   "execution_count": 1,
   "id": "a333a51a",
   "metadata": {},
   "outputs": [
    {
     "name": "stdout",
     "output_type": "stream",
     "text": [
      "L\n",
      "e\n",
      "x\n"
     ]
    }
   ],
   "source": [
    "s = \"Lexora\"\n",
    "it = iter(s)\n",
    "\n",
    "print(next(it))  # L\n",
    "print(next(it))  # e\n",
    "print(next(it))  # x"
   ]
  },
  {
   "cell_type": "code",
   "execution_count": 2,
   "id": "84cc6178",
   "metadata": {},
   "outputs": [
    {
     "name": "stdout",
     "output_type": "stream",
     "text": [
      "2\n",
      "4\n",
      "6\n",
      "8\n",
      "10\n"
     ]
    }
   ],
   "source": [
    "class EvenNumbers:\n",
    "    def __iter__(self):\n",
    "        self.n = 2\n",
    "        return self\n",
    "\n",
    "    def __next__(self):\n",
    "        x = self.n\n",
    "        self.n += 2\n",
    "        return x\n",
    "\n",
    "even = EvenNumbers()\n",
    "it = iter(even)\n",
    "\n",
    "for _ in range(5):\n",
    "    print(next(it))  # 2, 4, 6, 8, 10"
   ]
  },
  {
   "cell_type": "code",
   "execution_count": 3,
   "id": "749fe6bc",
   "metadata": {},
   "outputs": [
    {
     "name": "stdout",
     "output_type": "stream",
     "text": [
      "100\n",
      "200\n",
      "300\n",
      "End of iteration\n"
     ]
    }
   ],
   "source": [
    "li = [100, 200, 300]\n",
    "it = iter(li)\n",
    "\n",
    "while True:\n",
    "    try:\n",
    "        print(next(it))\n",
    "    except StopIteration:\n",
    "        print(\"End of iteration\")\n",
    "        break"
   ]
  },
  {
   "cell_type": "code",
   "execution_count": 4,
   "id": "1acaba72",
   "metadata": {},
   "outputs": [
    {
     "name": "stdout",
     "output_type": "stream",
     "text": [
      "0: Lexora\n",
      "1: VersOne\n",
      "2: Epubify\n"
     ]
    }
   ],
   "source": [
    "books = [\"Lexora\", \"VersOne\", \"Epubify\"]\n",
    "\n",
    "for index, name in enumerate(books):\n",
    "    print(f\"{index}: {name}\")"
   ]
  },
  {
   "cell_type": "code",
   "execution_count": 9,
   "id": "07a91ccd",
   "metadata": {},
   "outputs": [
    {
     "name": "stdout",
     "output_type": "stream",
     "text": [
      "\n",
      "Lexora is a beautifully crafted EPUB reader.\n",
      "It supports AI-powered chat, accessibility features,\n",
      "and elegant UI themes for immersive reading.\n",
      "\n",
      "\n",
      "Lexora is a beautifully crafted EPUB reader.\n",
      "It supports AI-powered chat, accessibility features,\n",
      "and elegant UI themes for immersive reading.\n",
      "\n",
      "Lexora is a beautifully crafted EPUB reader.\n",
      "It supports AI-powered chat, accessibility features,\n",
      "and elegant UI themes for immersive reading.\n",
      "\n",
      "\n"
     ]
    }
   ],
   "source": [
    "description = \"\"\"\n",
    "Lexora is a beautifully crafted EPUB reader.\n",
    "It supports AI-powered chat, accessibility features,\n",
    "and elegant UI themes for immersive reading.\n",
    "\"\"\"\n",
    "print(description)\n",
    "\n",
    "description2 = f\"\"\"\n",
    "Lexora is a beautifully crafted EPUB reader.\n",
    "It supports AI-powered chat, accessibility features,\n",
    "and elegant UI themes for immersive reading.\n",
    "{description}\n",
    "\"\"\"\n",
    "print(description2)\n"
   ]
  },
  {
   "cell_type": "code",
   "execution_count": 2,
   "id": "fb5591a3",
   "metadata": {},
   "outputs": [
    {
     "name": "stdout",
     "output_type": "stream",
     "text": [
      "SELECT * FROM books WHERE author = 'Mahabubul' AND published_year > 2020\n"
     ]
    }
   ],
   "source": [
    "query = \"SELECT * FROM books WHERE \" \\\n",
    "        \"author = 'Mahabubul' AND \" \\\n",
    "        \"published_year > 2020\"\n",
    "print(query)"
   ]
  },
  {
   "cell_type": "code",
   "execution_count": 3,
   "id": "d22419f8",
   "metadata": {},
   "outputs": [
    {
     "name": "stdout",
     "output_type": "stream",
     "text": [
      "Welcome to Lexora. Your personalized reading experience starts here. Enjoy AI-powered insights and elegant design.\n"
     ]
    }
   ],
   "source": [
    "message = (\n",
    "    \"Welcome to Lexora. \"\n",
    "    \"Your personalized reading experience starts here. \"\n",
    "    \"Enjoy AI-powered insights and elegant design.\"\n",
    ")\n",
    "print(message)"
   ]
  },
  {
   "cell_type": "code",
   "execution_count": 6,
   "id": "65551de5",
   "metadata": {},
   "outputs": [
    {
     "name": "stdout",
     "output_type": "stream",
     "text": [
      "Chapter 1: The Awakening\n",
      "Chapter 2: The Journey\n",
      "Chapter 3: The Revelation\n"
     ]
    }
   ],
   "source": [
    "lines = [\n",
    "    \"Chapter 1: The Awakening\",\n",
    "    \"Chapter 2: The Journey\",\n",
    "    \"Chapter 3: The Revelation\"\n",
    "]\n",
    "book_outline = \"\\n\".join(lines)\n",
    "print(book_outline)"
   ]
  },
  {
   "cell_type": "code",
   "execution_count": 5,
   "id": "842c2eec",
   "metadata": {},
   "outputs": [
    {
     "name": "stdout",
     "output_type": "stream",
     "text": [
      "\n",
      "<div class=\"chapter\">\n",
      "    <h1>Introduction</h1>\n",
      "    <p>Welcome to Lexora.</p>\n",
      "</div>\n",
      "\n"
     ]
    }
   ],
   "source": [
    "import textwrap\n",
    "\n",
    "html = textwrap.dedent(\"\"\"\n",
    "    <div class=\"chapter\">\n",
    "        <h1>Introduction</h1>\n",
    "        <p>Welcome to Lexora.</p>\n",
    "    </div>\n",
    "\"\"\")\n",
    "\n",
    "print(html)"
   ]
  }
 ],
 "metadata": {
  "kernelspec": {
   "display_name": "venv",
   "language": "python",
   "name": "python3"
  },
  "language_info": {
   "codemirror_mode": {
    "name": "ipython",
    "version": 3
   },
   "file_extension": ".py",
   "mimetype": "text/x-python",
   "name": "python",
   "nbconvert_exporter": "python",
   "pygments_lexer": "ipython3",
   "version": "3.10.11"
  }
 },
 "nbformat": 4,
 "nbformat_minor": 5
}
