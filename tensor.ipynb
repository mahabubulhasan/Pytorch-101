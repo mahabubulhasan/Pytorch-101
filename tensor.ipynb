{
 "cells": [
  {
   "cell_type": "code",
   "execution_count": 2,
   "id": "cd5db531",
   "metadata": {},
   "outputs": [
    {
     "data": {
      "text/plain": [
       "'2.8.0+cpu'"
      ]
     },
     "execution_count": 2,
     "metadata": {},
     "output_type": "execute_result"
    }
   ],
   "source": [
    "import torch\n",
    "torch.__version__"
   ]
  },
  {
   "cell_type": "code",
   "execution_count": 12,
   "id": "b1e851ee",
   "metadata": {},
   "outputs": [
    {
     "name": "stdout",
     "output_type": "stream",
     "text": [
      "tensor(7)\n",
      "0\n",
      "torch.Size([])\n",
      "7\n"
     ]
    }
   ],
   "source": [
    "scalar = torch.tensor(7)\n",
    "print(scalar)\n",
    "print(scalar.ndim)\n",
    "print(scalar.shape)\n",
    "print(scalar.item())"
   ]
  },
  {
   "cell_type": "code",
   "execution_count": 18,
   "id": "c2503a29",
   "metadata": {},
   "outputs": [
    {
     "name": "stdout",
     "output_type": "stream",
     "text": [
      "tensor([7, 2, 3])\n",
      "1\n",
      "torch.Size([3])\n",
      "7\n",
      "2\n",
      "3\n"
     ]
    }
   ],
   "source": [
    "vector = torch.tensor([7, 2, 3])\n",
    "print(vector)\n",
    "print(vector.ndim)\n",
    "print(vector.shape)\n",
    "print(vector[0].item())\n",
    "print(vector[1].item())\n",
    "print(vector[2].item())"
   ]
  },
  {
   "cell_type": "code",
   "execution_count": 22,
   "id": "1238be92",
   "metadata": {},
   "outputs": [
    {
     "name": "stdout",
     "output_type": "stream",
     "text": [
      "tensor([[ 7,  8],\n",
      "        [ 9, 10]])\n",
      "2\n",
      "torch.Size([2, 2])\n"
     ]
    }
   ],
   "source": [
    "# Matrix\n",
    "MATRIX = torch.tensor([[7, 8],\n",
    "                       [9, 10]])\n",
    "print(MATRIX)\n",
    "print(MATRIX.ndim)\n",
    "print(MATRIX.shape)\n"
   ]
  },
  {
   "cell_type": "code",
   "execution_count": 24,
   "id": "853e244f",
   "metadata": {},
   "outputs": [
    {
     "name": "stdout",
     "output_type": "stream",
     "text": [
      "tensor([[[1, 2, 3],\n",
      "         [3, 6, 9],\n",
      "         [2, 4, 5]]])\n",
      "3\n",
      "torch.Size([1, 3, 3])\n"
     ]
    }
   ],
   "source": [
    "# Tensor\n",
    "TENSOR = torch.tensor([[[1, 2, 3],\n",
    "                        [3, 6, 9],\n",
    "                        [2, 4, 5]]])\n",
    "print(TENSOR)\n",
    "print(TENSOR.ndim)\n",
    "print(TENSOR.shape)"
   ]
  },
  {
   "cell_type": "code",
   "execution_count": 25,
   "id": "481c63dc",
   "metadata": {},
   "outputs": [
    {
     "name": "stdout",
     "output_type": "stream",
     "text": [
      "tensor([[[[1, 2, 3],\n",
      "          [3, 6, 9],\n",
      "          [2, 4, 5]]]])\n",
      "4\n",
      "torch.Size([1, 1, 3, 3])\n"
     ]
    }
   ],
   "source": [
    "# Tensor\n",
    "TENSOR1 = torch.tensor([[[[1, 2, 3],\n",
    "                        [3, 6, 9],\n",
    "                        [2, 4, 5]]]])\n",
    "print(TENSOR1)\n",
    "print(TENSOR1.ndim)\n",
    "print(TENSOR1.shape)"
   ]
  },
  {
   "cell_type": "code",
   "execution_count": 38,
   "id": "3a12d5a9",
   "metadata": {},
   "outputs": [],
   "source": [
    "def aslist(x: torch.Tensor):\n",
    "    return x.tolist()\n",
    "\n",
    "def cast(x: list[torch.Tensor]) -> list:\n",
    "    cache = []\n",
    "    for item in x:\n",
    "        cache.append(item.tolist())\n",
    "\n",
    "    return cache"
   ]
  },
  {
   "cell_type": "code",
   "execution_count": 50,
   "id": "ac728ae2",
   "metadata": {},
   "outputs": [
    {
     "name": "stdout",
     "output_type": "stream",
     "text": [
      "\n",
      "#### Vector ####\n",
      "tensor([1, 2, 3])\n",
      "tensor([4, 5, 6])\n",
      "tensor([7, 8, 9])\n",
      "\n",
      "#### Matrix ####\n",
      "m1: tensor([[1, 2, 3],\n",
      "        [4, 5, 6],\n",
      "        [7, 8, 9]]), dimention: 2\n",
      "m2: tensor([[1, 2, 3],\n",
      "        [4, 5, 6],\n",
      "        [7, 8, 9]]), dimention: 2\n",
      "m3: tensor([[1, 2, 3],\n",
      "        [4, 5, 6],\n",
      "        [7, 8, 9]]), dimention: 2\n"
     ]
    }
   ],
   "source": [
    "print('\\n#### Vector ####')\n",
    "v1 = torch.tensor([1, 2, 3])\n",
    "v2 = torch.tensor([4, 5, 6])\n",
    "v3 = torch.tensor([7, 8, 9])\n",
    "print(v1)\n",
    "print(v2)\n",
    "print(v3)\n",
    "\n",
    "print('\\n#### Matrix ####')\n",
    "m1 = torch.tensor(cast([v1, v2, v3]))\n",
    "m2 = torch.tensor(cast([v1, v2, v3]))\n",
    "m3 = torch.tensor(cast([v1, v2, v3]))\n",
    "\n",
    "print(f\"m1: {m1}, dimention: {m1.ndim}\")\n",
    "print(f\"m2: {m2}, dimention: {m2.ndim}\")\n",
    "print(f\"m3: {m3}, dimention: {m3.ndim}\")\n"
   ]
  },
  {
   "cell_type": "code",
   "execution_count": 67,
   "id": "fcf71b6b",
   "metadata": {},
   "outputs": [
    {
     "name": "stdout",
     "output_type": "stream",
     "text": [
      "\n",
      "#### Tensor ####\n",
      "tensor([[[1., 2., 3.],\n",
      "         [4., 5., 6.],\n",
      "         [7., 8., 9.]],\n",
      "\n",
      "        [[1., 2., 3.],\n",
      "         [4., 5., 6.],\n",
      "         [7., 8., 9.]]], dtype=torch.float16)\n",
      "3\n",
      "torch.Size([2, 3, 3])\n",
      "torch.float16\n"
     ]
    }
   ],
   "source": [
    "print('\\n#### Tensor ####')\n",
    "\n",
    "X = [cast(v1), cast(v2), cast(v3)]\n",
    "TENSORX = torch.tensor([X, X], dtype=torch.half)\n",
    "\n",
    "print(TENSORX)\n",
    "print(TENSORX.ndim)\n",
    "print(TENSORX.shape)\n",
    "print(TENSORX.dtype)\n"
   ]
  }
 ],
 "metadata": {
  "kernelspec": {
   "display_name": "venv",
   "language": "python",
   "name": "python3"
  },
  "language_info": {
   "codemirror_mode": {
    "name": "ipython",
    "version": 3
   },
   "file_extension": ".py",
   "mimetype": "text/x-python",
   "name": "python",
   "nbconvert_exporter": "python",
   "pygments_lexer": "ipython3",
   "version": "3.10.11"
  }
 },
 "nbformat": 4,
 "nbformat_minor": 5
}
