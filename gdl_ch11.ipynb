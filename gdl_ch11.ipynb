{
 "cells": [
  {
   "cell_type": "code",
   "execution_count": 4,
   "id": "8c89490d",
   "metadata": {},
   "outputs": [
    {
     "name": "stdout",
     "output_type": "stream",
     "text": [
      "Sent Encoding: [1 1 0 1]\n"
     ]
    }
   ],
   "source": [
    "import numpy as np\n",
    "\n",
    "onehots = {}\n",
    "onehots['cat'] = np.array([1, 0, 0, 0])\n",
    "onehots['the'] = np.array([0, 1, 0, 0])\n",
    "onehots['dog'] = np.array([0, 0, 1, 0])\n",
    "onehots['sat'] = np.array([0, 0, 0, 1])\n",
    "\n",
    "sentence = ['the', 'cat', 'sat']\n",
    "\n",
    "x = onehots[sentence[0]] + onehots[sentence[1]] + onehots[sentence[2]]\n",
    "\n",
    "print(f\"Sent Encoding: {x}\")"
   ]
  },
  {
   "cell_type": "code",
   "execution_count": 15,
   "id": "7434b83d",
   "metadata": {},
   "outputs": [],
   "source": [
    "# Encoding\n",
    "\n",
    "import sys\n",
    "\n",
    "f = open('reviews.txt')\n",
    "raw_reviews = f.readlines()\n",
    "f.close()\n",
    "\n",
    "f = open('labels.txt')\n",
    "raw_labels = f.readlines()\n",
    "f.close()\n",
    "\n",
    "tokens = list(map(lambda x:set(x.split(\" \")), raw_reviews))\n",
    "\n",
    "vocab = set()\n",
    "for sent in tokens:\n",
    "    for word in sent:\n",
    "        if(len(word)>0):\n",
    "            vocab.add(word)\n",
    "\n",
    "vocab = list(vocab)\n",
    "\n",
    "word2index = {}\n",
    "for i, word in enumerate(vocab):\n",
    "    word2index[word] = i\n",
    "\n",
    "input_dataset = list()\n",
    "for sent in tokens:\n",
    "    sent_indices = list()\n",
    "    for word in sent:\n",
    "        try:\n",
    "            sent_indices.append(word2index[word])\n",
    "        except:\n",
    "            \"\"\n",
    "    input_dataset.append(list(set(sent_indices)))\n",
    "\n",
    "target_dataset = list()\n",
    "for label in raw_labels:\n",
    "    if label == 'positive\\n':\n",
    "        target_dataset.append(1)\n",
    "    else:\n",
    "        target_dataset.append(0)\n"
   ]
  },
  {
   "cell_type": "code",
   "execution_count": 21,
   "id": "1a47e45b",
   "metadata": {},
   "outputs": [
    {
     "name": "stdout",
     "output_type": "stream",
     "text": [
      "len(vocab): 74074\n",
      "len(input_dataset): 25000\n",
      "len(target_dataset): 25000\n",
      "input_dataset[0]: [64512, 3075, 17923, 53769, 27659, 7194, 51740, 9758, 39460, 42534, 37417, 26158, 63030, 49209, 73281, 37956, 9797, 37960, 20554, 32845, 59474, 43097, 57440, 14944, 12408, 33400, 43642, 10365, 57472, 44168, 42132, 55957, 49823, 49836, 6316, 28846, 60081, 16052, 47288, 58555, 24270, 10449, 9442, 30948, 64229, 38119, 11498, 55024, 43249, 53497, 4345, 70405, 61195, 17684, 18710, 19230, 28454, 29479, 71988, 27966, 832, 59716, 35141, 58692, 59210, 66385, 44890, 73056, 23905, 354, 72548, 49518, 68978, 19316, 1909, 62330, 15759, 64911, 17304, 13210, 50592, 5540, 17831, 41394, 35775, 59850, 19929, 63455, 16352, 50159, 37875, 49146, 70655]\n",
      "target_dataset[0]: 1\n",
      "Iter: 0 Progress: 95.99 % Training Accuracy: 0.83225%1271363068%%\n",
      "Iter: 1 Progress: 95.99 % Training Accuracy: 0.8665%38570535528%\n",
      "Test Accuracy: 0.853\n"
     ]
    }
   ],
   "source": [
    "import numpy as np\n",
    "np.random.seed(1)\n",
    "\n",
    "def sigmoid(x):\n",
    "    return 1 / (1 + np.exp(-x))\n",
    "\n",
    "alpha, iterations = (0.01, 2)\n",
    "hidden_size = 100\n",
    "\n",
    "print(f\"len(vocab): {len(vocab)}\")\n",
    "print(f\"len(input_dataset): {len(input_dataset)}\")\n",
    "print(f\"len(target_dataset): {len(target_dataset)}\")\n",
    "print(f\"input_dataset[0]: {input_dataset[0]}\")\n",
    "print(f\"target_dataset[0]: {target_dataset[0]}\")\n",
    "\n",
    "weight_0_1 = 0.2 * np.random.random((len(vocab), hidden_size)) - 0.1\n",
    "weight_1_2 = 0.2 * np.random.random((hidden_size, 1)) - 0.1\n",
    "\n",
    "correct, total = (0, 0)\n",
    "for iter in range(iterations):\n",
    "    for i in range(len(input_dataset) - 1000):\n",
    "        x, y = (input_dataset[i], target_dataset[i])\n",
    "        layer_1 = sigmoid(np.sum(weight_0_1[x], axis=0))\n",
    "        layer_2 = sigmoid(np.dot(layer_1, weight_1_2))\n",
    "\n",
    "        layer_2_delta = layer_2 - y\n",
    "        layer_1_delta = layer_2_delta.dot(weight_1_2.T)\n",
    "\n",
    "        weight_0_1[x] -= layer_1_delta * alpha\n",
    "        weight_1_2 -= np.outer(layer_1, layer_2_delta) * alpha\n",
    "\n",
    "        if(np.abs(layer_2_delta) < 0.5):\n",
    "            correct += 1\n",
    "        total += 1\n",
    "\n",
    "        if(i % 10 == 9):\n",
    "            progress = str(i/float(len(input_dataset)))\n",
    "            sys.stdout.write('\\rIter: '+str(iter) \\\n",
    "                             + ' Progress: '+progress[2:4] \\\n",
    "                                +'.'+progress[4:6] \\\n",
    "                                    +' % Training Accuracy: '\\\n",
    "                                        + str(correct/float(total))+'%')\n",
    "    print()\n",
    "correct, total = (0, 0)\n",
    "for i in range(len(input_dataset) - 1000, len(input_dataset)):\n",
    "    x = input_dataset[i]\n",
    "    y = target_dataset[i]\n",
    "\n",
    "    layer_1 = sigmoid(np.sum(weight_0_1[x], axis=0))\n",
    "    layer_2 = sigmoid(np.dot(layer_1, weight_1_2))\n",
    "\n",
    "    if(np.abs(layer_2 - y) < 0.5):\n",
    "        correct += 1\n",
    "    total += 1\n",
    "print(\"Test Accuracy: \"+str(correct/float(total)))"
   ]
  },
  {
   "cell_type": "code",
   "execution_count": 22,
   "id": "0c3d8369",
   "metadata": {},
   "outputs": [
    {
     "name": "stdout",
     "output_type": "stream",
     "text": [
      "[('beautiful', -0.0), ('best', -0.7806569350918381), ('powerful', -0.7830514231713361), ('will', -0.7945192127457067), ('fun', -0.8036350314292777), ('appreciate', -0.8044728604591667), ('subtle', -0.8055962618144833), ('enjoy', -0.8083514421986505), ('deserves', -0.8132001234598726), ('underrated', -0.8183699051883105)]\n",
      "[('terrible', -0.0), ('worse', -0.6655898503422804), ('disappointment', -0.7494341421601955), ('horrible', -0.7942725922976795), ('dull', -0.7947739792479398), ('poor', -0.8002903175914787), ('fails', -0.8006564398577826), ('badly', -0.804005098396182), ('disappointing', -0.8115300735464647), ('bad', -0.8156775855086102)]\n"
     ]
    }
   ],
   "source": [
    "from collections import Counter\n",
    "import math\n",
    "\n",
    "def similar(target = 'beautiful'):\n",
    "    target_index = word2index[target]\n",
    "    scores = Counter()\n",
    "    for word, index in word2index.items():\n",
    "        raw_difference = weight_0_1[index] - (weight_0_1[target_index])\n",
    "        square_difference = raw_difference * raw_difference\n",
    "        scores[word] = -math.sqrt(sum(square_difference))\n",
    "\n",
    "    return scores.most_common(10)\n",
    "\n",
    "print(similar('beautiful'))\n",
    "print(similar('terrible'))"
   ]
  },
  {
   "cell_type": "code",
   "execution_count": 32,
   "id": "c1d936fc",
   "metadata": {},
   "outputs": [
    {
     "name": "stdout",
     "output_type": "stream",
     "text": [
      "Progress:0.99998 [('terrible', -0.0), ('horrible', -2.762726716928402), ('brilliant', -3.024791215455538), ('phenomenal', -3.526713519394144), ('pathetic', -3.596528053636521), ('marvelous', -3.8258569079399107), ('masterful', -3.870744676472927), ('superb', -3.880766088331156), ('miserable', -3.9039319837915523), ('terrific', -3.9585539296027745)]3)]5)]]]6)]][('terrible', -0.0), ('horrible', -2.7755246900173525), ('brilliant', -3.276813903181487), ('pathetic', -3.5996119023941135), ('phenomenal', -3.6558890017015946), ('bad', -3.872238000997129), ('marvelous', -3.957775280623674), ('masterful', -4.024629238649957), ('miserable', -4.082535113342476), ('dreadful', -4.138937666104752)]\n"
     ]
    }
   ],
   "source": [
    "import sys, random, math\n",
    "from collections import Counter\n",
    "import numpy as np\n",
    "\n",
    "np.random.seed(1)\n",
    "random.seed(1)\n",
    "\n",
    "f = open('reviews.txt')\n",
    "raw_reviews = f.readlines()\n",
    "f.close()\n",
    "\n",
    "tokens = list(map(lambda x: (x.split(\" \")), raw_reviews))\n",
    "\n",
    "wordcnt = Counter()\n",
    "for sent in tokens:\n",
    "    for word in sent:\n",
    "        wordcnt[word] -= 1\n",
    "\n",
    "vocab = list(set(map(lambda x: x[0], wordcnt.most_common())))\n",
    "\n",
    "word2index = {}\n",
    "for i, word in enumerate(vocab):\n",
    "    word2index[word] = i\n",
    "\n",
    "concatenated = list()\n",
    "input_dataset = list()\n",
    "\n",
    "for sent in tokens:\n",
    "    sent_indices = list()\n",
    "    for word in sent:\n",
    "        try:\n",
    "            sent_indices.append(word2index[word])\n",
    "            concatenated.append(word2index[word])\n",
    "        except:\n",
    "            \"\"\n",
    "    input_dataset.append(sent_indices)\n",
    "concatenated = np.array(concatenated)\n",
    "random.shuffle(input_dataset)\n",
    "\n",
    "alpha, iterations = (0.05, 2)\n",
    "hidden_size, window, negative = (50, 2, 5)\n",
    "\n",
    "weight_0_1 = (np.random.rand(len(vocab), hidden_size) - 0.5) * 0.2\n",
    "weight_1_2 = np.random.rand(len(vocab), hidden_size) * 0\n",
    "\n",
    "layer_2_target = np.zeros(negative+1)\n",
    "layer_2_target[0] = 1\n",
    "\n",
    "def similar(target='beautiful'):\n",
    "    target_index = word2index[target]\n",
    "\n",
    "    scores = Counter()\n",
    "    for word, index in word2index.items():\n",
    "        raw_difference = weight_0_1[index] - (weight_0_1[target_index])\n",
    "        squared_difference = raw_difference * raw_difference\n",
    "        scores[word] = -math.sqrt(sum(squared_difference))\n",
    "\n",
    "    return scores.most_common(10)\n",
    "\n",
    "def sigmoid(x):\n",
    "    return 1 / (1 + np.exp(-x))\n",
    "\n",
    "for rev_i, review in enumerate(input_dataset * iterations):\n",
    "    for target_i in range(len(review)):\n",
    "\n",
    "        target_samples = [review[target_i]] + list(concatenated[(np.random.rand(negative) * len(concatenated)).astype('int').tolist()])\n",
    "\n",
    "        left_context = review[max(0, target_i - window): target_i]\n",
    "        right_context = review[target_i+1: min(len(review), target_i+window)]\n",
    "\n",
    "        layer_1 = np.mean(weight_0_1[left_context+right_context], axis=0)\n",
    "        layer_2 = sigmoid(layer_1.dot(weight_1_2[target_samples].T))\n",
    "        layer_2_delta = layer_2 - layer_2_target\n",
    "        layer_1_delta = layer_2_delta.dot(weight_1_2[target_samples])\n",
    "\n",
    "        weight_0_1[left_context+right_context] -= layer_1_delta * alpha\n",
    "        weight_1_2[target_samples] -= np.outer(layer_2_delta, layer_1) * alpha\n",
    "\n",
    "    if(rev_i % 250 == 0):\n",
    "        sys.stdout.write('\\rProgress:'+str(rev_i/float(len(input_dataset)\n",
    "        *iterations)) + \"   \" + str(similar('terrible')))\n",
    "\n",
    "    sys.stdout.write('\\rProgress:'+str(rev_i/float(len(input_dataset)\n",
    "        *iterations)))\n",
    "\n",
    "print(similar('terrible'))"
   ]
  },
  {
   "cell_type": "code",
   "execution_count": 33,
   "id": "6ffa3637",
   "metadata": {},
   "outputs": [],
   "source": [
    "def analogy(positive=['terrible', 'good'], negative=['bad']):\n",
    "    norms = np.sum(weight_0_1 * weight_0_1, axis=1)\n",
    "    norms.resize(norms.shape[0], 1)\n",
    "\n",
    "    normed_weights = weight_0_1 * norms\n",
    "\n",
    "    query_vect = np.zeros(len(weight_0_1[0]))\n",
    "    for word in positive:\n",
    "        query_vect += normed_weights[word2index[word]]\n",
    "\n",
    "    for word in negative:\n",
    "        query_vect -= normed_weights[word2index[word]]\n",
    "\n",
    "    scores = Counter()\n",
    "    for word, index in word2index.items():\n",
    "        raw_difference = weight_0_1[index] - query_vect\n",
    "        squared_difference = raw_difference * raw_difference\n",
    "        scores[word] = -math.sqrt(sum(squared_difference))\n",
    "\n",
    "    return scores.most_common(10)[1:]"
   ]
  },
  {
   "cell_type": "code",
   "execution_count": 34,
   "id": "fbe52e48",
   "metadata": {},
   "outputs": [
    {
     "name": "stdout",
     "output_type": "stream",
     "text": [
      "[('superb', -212.77893303172317), ('decent', -213.11131920628588), ('terrific', -213.13783761791217), ('fine', -213.21595751836736), ('worth', -213.35394466329433), ('perfect', -213.36565675658474), ('nice', -213.40455609620668), ('brilliant', -213.48774533085336), ('outstanding', -213.6879190094353)]\n"
     ]
    }
   ],
   "source": [
    "print(analogy(['terrible', 'good'], ['bad']))"
   ]
  },
  {
   "cell_type": "code",
   "execution_count": 35,
   "id": "0d694be9",
   "metadata": {},
   "outputs": [
    {
     "name": "stdout",
     "output_type": "stream",
     "text": [
      "[('christopher', -188.26883458111715), ('william', -188.3849814564768), ('david', -188.39227767170277), ('peter', -188.4292561104581), ('tom', -188.4374089864225), ('simon', -188.62456547433578), ('him', -188.66948853622625), ('been', -188.68776612766194), ('dan', -188.70029218496893)]\n"
     ]
    }
   ],
   "source": [
    "print(analogy(['elizabeth', 'he'], ['she']))"
   ]
  }
 ],
 "metadata": {
  "kernelspec": {
   "display_name": "venv",
   "language": "python",
   "name": "python3"
  },
  "language_info": {
   "codemirror_mode": {
    "name": "ipython",
    "version": 3
   },
   "file_extension": ".py",
   "mimetype": "text/x-python",
   "name": "python",
   "nbconvert_exporter": "python",
   "pygments_lexer": "ipython3",
   "version": "3.10.11"
  }
 },
 "nbformat": 4,
 "nbformat_minor": 5
}
