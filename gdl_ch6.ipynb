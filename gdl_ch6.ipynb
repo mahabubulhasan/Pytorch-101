{
 "cells": [
  {
   "cell_type": "code",
   "execution_count": null,
   "id": "c874e55a",
   "metadata": {},
   "outputs": [
    {
     "name": "stdout",
     "output_type": "stream",
     "text": [
      "Error: 1.478311\n",
      "Error: 0.687515\n",
      "Error: 0.224377\n",
      "Error: 0.085147\n",
      "Error: 0.020932\n",
      "Error: 0.004495\n"
     ]
    }
   ],
   "source": [
    "## Backpropagation\n",
    "import numpy as np\n",
    "\n",
    "np.random.seed(47)\n",
    "\n",
    "def relu(x):\n",
    "    return (x > 0) * x\n",
    "\n",
    "def relu2deriv(output):\n",
    "    return output > 0\n",
    "\n",
    "streetlights = np.array([\n",
    "    [1, 0, 1],\n",
    "    [0, 1, 1],\n",
    "    [0, 0, 1],\n",
    "    [1, 1, 1]])\n",
    "walk_vs_stop = np.array([1, 1, 0, 0]).T\n",
    "alpha = 0.2\n",
    "hidden_size = 4\n",
    "\n",
    "weights_0_1 = 2*np.random.random((3, hidden_size))-1\n",
    "weights_1_2 = 2*np.random.random((hidden_size, 1))-1\n",
    "\n",
    "for iteration in range(60):\n",
    "    layer_2_error = 0\n",
    "    for i in range(len(streetlights)):\n",
    "        layer_0 = streetlights[i:i+1]\n",
    "        layer_1 = relu(np.dot(layer_0, weights_0_1))\n",
    "        layer_2 = np.dot(layer_1, weights_1_2)\n",
    "\n",
    "        layer_2_error += np.sum((layer_2 - walk_vs_stop[i:i+1])**2)\n",
    "        layer_2_delta = (walk_vs_stop[i:i+1] - layer_2)\n",
    "        layer_1_delta = layer_2_delta.dot(weights_1_2.T)*relu2deriv(layer_1)\n",
    "\n",
    "        weights_1_2 += alpha * layer_1.T.dot(layer_2_delta)\n",
    "        weights_0_1 += alpha * layer_0.T.dot(layer_1_delta)\n",
    "\n",
    "    if(iteration % 10 == 9):\n",
    "        print(f\"Error: {layer_2_error:.3f}\")\n"
   ]
  }
 ],
 "metadata": {
  "kernelspec": {
   "display_name": "venv",
   "language": "python",
   "name": "python3"
  },
  "language_info": {
   "codemirror_mode": {
    "name": "ipython",
    "version": 3
   },
   "file_extension": ".py",
   "mimetype": "text/x-python",
   "name": "python",
   "nbconvert_exporter": "python",
   "pygments_lexer": "ipython3",
   "version": "3.10.11"
  }
 },
 "nbformat": 4,
 "nbformat_minor": 5
}
