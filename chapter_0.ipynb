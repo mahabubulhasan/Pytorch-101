{
 "cells": [
  {
   "cell_type": "code",
   "execution_count": 2,
   "id": "cd5db531",
   "metadata": {},
   "outputs": [
    {
     "data": {
      "text/plain": [
       "'2.8.0+cpu'"
      ]
     },
     "execution_count": 2,
     "metadata": {},
     "output_type": "execute_result"
    }
   ],
   "source": [
    "import torch\n",
    "torch.__version__"
   ]
  },
  {
   "cell_type": "code",
   "execution_count": 3,
   "id": "b1e851ee",
   "metadata": {},
   "outputs": [
    {
     "name": "stdout",
     "output_type": "stream",
     "text": [
      "tensor(7)\n",
      "0\n",
      "torch.Size([])\n",
      "7\n"
     ]
    }
   ],
   "source": [
    "scalar = torch.tensor(7)\n",
    "print(scalar)\n",
    "print(scalar.ndim)\n",
    "print(scalar.shape)\n",
    "print(scalar.item())"
   ]
  },
  {
   "cell_type": "code",
   "execution_count": 4,
   "id": "c2503a29",
   "metadata": {},
   "outputs": [
    {
     "name": "stdout",
     "output_type": "stream",
     "text": [
      "tensor([7, 2, 3])\n",
      "1\n",
      "torch.Size([3])\n",
      "7\n",
      "2\n",
      "3\n"
     ]
    }
   ],
   "source": [
    "vector = torch.tensor([7, 2, 3])\n",
    "print(vector)\n",
    "print(vector.ndim)\n",
    "print(vector.shape)\n",
    "print(vector[0].item())\n",
    "print(vector[1].item())\n",
    "print(vector[2].item())"
   ]
  },
  {
   "cell_type": "code",
   "execution_count": 5,
   "id": "1238be92",
   "metadata": {},
   "outputs": [
    {
     "name": "stdout",
     "output_type": "stream",
     "text": [
      "tensor([[ 7,  8],\n",
      "        [ 9, 10]])\n",
      "2\n",
      "torch.Size([2, 2])\n"
     ]
    }
   ],
   "source": [
    "# Matrix\n",
    "MATRIX = torch.tensor([[7, 8],\n",
    "                       [9, 10]])\n",
    "print(MATRIX)\n",
    "print(MATRIX.ndim)\n",
    "print(MATRIX.shape)\n"
   ]
  },
  {
   "cell_type": "code",
   "execution_count": 6,
   "id": "853e244f",
   "metadata": {},
   "outputs": [
    {
     "name": "stdout",
     "output_type": "stream",
     "text": [
      "tensor([[[1, 2, 3],\n",
      "         [3, 6, 9],\n",
      "         [2, 4, 5]]])\n",
      "3\n",
      "torch.Size([1, 3, 3])\n"
     ]
    }
   ],
   "source": [
    "# Tensor\n",
    "TENSOR = torch.tensor([[[1, 2, 3],\n",
    "                        [3, 6, 9],\n",
    "                        [2, 4, 5]]])\n",
    "print(TENSOR)\n",
    "print(TENSOR.ndim)\n",
    "print(TENSOR.shape)"
   ]
  },
  {
   "cell_type": "code",
   "execution_count": 7,
   "id": "481c63dc",
   "metadata": {},
   "outputs": [
    {
     "name": "stdout",
     "output_type": "stream",
     "text": [
      "tensor([[[[1, 2, 3],\n",
      "          [3, 6, 9],\n",
      "          [2, 4, 5]]]])\n",
      "4\n",
      "torch.Size([1, 1, 3, 3])\n"
     ]
    }
   ],
   "source": [
    "# Tensor\n",
    "TENSOR1 = torch.tensor([[[[1, 2, 3],\n",
    "                        [3, 6, 9],\n",
    "                        [2, 4, 5]]]])\n",
    "print(TENSOR1)\n",
    "print(TENSOR1.ndim)\n",
    "print(TENSOR1.shape)"
   ]
  },
  {
   "cell_type": "code",
   "execution_count": 8,
   "id": "3a12d5a9",
   "metadata": {},
   "outputs": [],
   "source": [
    "def aslist(x: torch.Tensor):\n",
    "    return x.tolist()\n",
    "\n",
    "def cast(x: list[torch.Tensor]) -> list:\n",
    "    cache = []\n",
    "    for item in x:\n",
    "        cache.append(item.tolist())\n",
    "\n",
    "    return cache"
   ]
  },
  {
   "cell_type": "code",
   "execution_count": 9,
   "id": "ac728ae2",
   "metadata": {},
   "outputs": [
    {
     "name": "stdout",
     "output_type": "stream",
     "text": [
      "\n",
      "#### Vector ####\n",
      "tensor([1, 2, 3])\n",
      "tensor([4, 5, 6])\n",
      "tensor([7, 8, 9])\n",
      "\n",
      "#### Matrix ####\n",
      "m1: tensor([[1, 2, 3],\n",
      "        [4, 5, 6],\n",
      "        [7, 8, 9]]), dimention: 2\n",
      "m2: tensor([[1, 2, 3],\n",
      "        [4, 5, 6],\n",
      "        [7, 8, 9]]), dimention: 2\n",
      "m3: tensor([[1, 2, 3],\n",
      "        [4, 5, 6],\n",
      "        [7, 8, 9]]), dimention: 2\n"
     ]
    }
   ],
   "source": [
    "print('\\n#### Vector ####')\n",
    "v1 = torch.tensor([1, 2, 3])\n",
    "v2 = torch.tensor([4, 5, 6])\n",
    "v3 = torch.tensor([7, 8, 9])\n",
    "print(v1)\n",
    "print(v2)\n",
    "print(v3)\n",
    "\n",
    "print('\\n#### Matrix ####')\n",
    "m1 = torch.tensor(cast([v1, v2, v3]))\n",
    "m2 = torch.tensor(cast([v1, v2, v3]))\n",
    "m3 = torch.tensor(cast([v1, v2, v3]))\n",
    "\n",
    "print(f\"m1: {m1}, dimention: {m1.ndim}\")\n",
    "print(f\"m2: {m2}, dimention: {m2.ndim}\")\n",
    "print(f\"m3: {m3}, dimention: {m3.ndim}\")\n"
   ]
  },
  {
   "cell_type": "code",
   "execution_count": 10,
   "id": "fcf71b6b",
   "metadata": {},
   "outputs": [
    {
     "name": "stdout",
     "output_type": "stream",
     "text": [
      "\n",
      "#### Tensor ####\n",
      "tensor([[[1., 2., 3.],\n",
      "         [4., 5., 6.],\n",
      "         [7., 8., 9.]],\n",
      "\n",
      "        [[1., 2., 3.],\n",
      "         [4., 5., 6.],\n",
      "         [7., 8., 9.]]], dtype=torch.float16)\n",
      "3\n",
      "torch.Size([2, 3, 3])\n",
      "torch.float16\n"
     ]
    }
   ],
   "source": [
    "print('\\n#### Tensor ####')\n",
    "\n",
    "X = [cast(v1), cast(v2), cast(v3)]\n",
    "TENSORX = torch.tensor([X, X], dtype=torch.half)\n",
    "\n",
    "print(TENSORX)\n",
    "print(TENSORX.ndim)\n",
    "print(TENSORX.shape)\n",
    "print(TENSORX.dtype)\n"
   ]
  },
  {
   "cell_type": "code",
   "execution_count": 41,
   "id": "295c79c4",
   "metadata": {},
   "outputs": [
    {
     "name": "stdout",
     "output_type": "stream",
     "text": [
      "tensor([1, 2, 3])\n",
      "tensor([11, 12, 13])\n",
      "tensor([10, 20, 30])\n",
      "tensor([1, 4, 9])\n",
      "tensor(14)\n",
      "tensor(14)\n",
      "tensor([[1, 2, 3]])\n",
      "tensor([[1],\n",
      "        [2],\n",
      "        [3]])\n"
     ]
    }
   ],
   "source": [
    "tensor = torch.tensor([1, 2, 3])\n",
    "print(tensor)\n",
    "print(tensor + 10)\n",
    "print(tensor * 10)\n",
    "\n",
    "print(tensor * tensor)\n",
    "print(torch.matmul(tensor, tensor)) # matrix multiplication\n",
    "print(tensor @ tensor) # alternate syntax for matrix multiplication\n",
    "\n",
    "## transformation\n",
    "print(tensor.unsqueeze(0))\n",
    "print(tensor.unsqueeze(0).T)\n"
   ]
  },
  {
   "cell_type": "code",
   "execution_count": 45,
   "id": "89a95975",
   "metadata": {},
   "outputs": [
    {
     "name": "stdout",
     "output_type": "stream",
     "text": [
      "tensor([1., 2., 3., 4., 5., 6., 7.])\n",
      "torch.Size([7])\n",
      "tensor([[1., 2., 3., 4., 5., 6., 7.]])\n",
      "tensor([5., 2., 3., 4., 5., 6., 7.])\n",
      "tensor([[5., 2., 3., 4., 5., 6., 7.]])\n",
      "tensor([[5., 2., 3., 4., 5., 6., 7.],\n",
      "        [5., 2., 3., 4., 5., 6., 7.],\n",
      "        [5., 2., 3., 4., 5., 6., 7.],\n",
      "        [5., 2., 3., 4., 5., 6., 7.]])\n"
     ]
    }
   ],
   "source": [
    "x = torch.arange(1., 8.)\n",
    "print(x)\n",
    "print(x.shape)\n",
    "\n",
    "z = x.view(1, 7)\n",
    "print(z)\n",
    "\n",
    "z[:, 0] = 5\n",
    "print(x)\n",
    "print(z)\n",
    "\n",
    "x_stacked = torch.stack([x, x, x, x], dim=0)\n",
    "print(x_stacked)"
   ]
  },
  {
   "cell_type": "code",
   "execution_count": 48,
   "id": "db4350d8",
   "metadata": {},
   "outputs": [
    {
     "name": "stdout",
     "output_type": "stream",
     "text": [
      "tensor([[[0.9369, 0.0408, 0.4402],\n",
      "         [0.5188, 0.6994, 0.1101],\n",
      "         [0.9700, 0.3302, 0.8026],\n",
      "         ...,\n",
      "         [0.3954, 0.9984, 0.3450],\n",
      "         [0.4352, 0.1768, 0.1390],\n",
      "         [0.2362, 0.8701, 0.6512]],\n",
      "\n",
      "        [[0.4891, 0.2733, 0.5540],\n",
      "         [0.9026, 0.1093, 0.0424],\n",
      "         [0.3570, 0.2743, 0.8322],\n",
      "         ...,\n",
      "         [0.7102, 0.1343, 0.1262],\n",
      "         [0.1262, 0.7728, 0.4758],\n",
      "         [0.8093, 0.4239, 0.4750]],\n",
      "\n",
      "        [[0.5841, 0.9506, 0.7401],\n",
      "         [0.6989, 0.6231, 0.0286],\n",
      "         [0.9729, 0.8127, 0.2674],\n",
      "         ...,\n",
      "         [0.3734, 0.3504, 0.8560],\n",
      "         [0.5894, 0.2820, 0.1543],\n",
      "         [0.7900, 0.8549, 0.9922]],\n",
      "\n",
      "        ...,\n",
      "\n",
      "        [[0.3454, 0.2064, 0.1875],\n",
      "         [0.6604, 0.5172, 0.4040],\n",
      "         [0.3419, 0.2239, 0.2656],\n",
      "         ...,\n",
      "         [0.7306, 0.2186, 0.5314],\n",
      "         [0.8557, 0.3874, 0.4318],\n",
      "         [0.6846, 0.4904, 0.9319]],\n",
      "\n",
      "        [[0.2235, 0.0151, 0.1487],\n",
      "         [0.6263, 0.2763, 0.0906],\n",
      "         [0.0029, 0.7898, 0.4120],\n",
      "         ...,\n",
      "         [0.4570, 0.4081, 0.0760],\n",
      "         [0.7847, 0.3487, 0.4268],\n",
      "         [0.3169, 0.2011, 0.7097]],\n",
      "\n",
      "        [[0.6638, 0.9705, 0.1369],\n",
      "         [0.2689, 0.3511, 0.5584],\n",
      "         [0.8670, 0.4980, 0.4082],\n",
      "         ...,\n",
      "         [0.8674, 0.9582, 0.2365],\n",
      "         [0.6034, 0.4132, 0.7744],\n",
      "         [0.8715, 0.1471, 0.0432]]])\n",
      "torch.Size([224, 224, 3])\n",
      "tensor([[[0.9369, 0.5188, 0.9700,  ..., 0.3954, 0.4352, 0.2362],\n",
      "         [0.4891, 0.9026, 0.3570,  ..., 0.7102, 0.1262, 0.8093],\n",
      "         [0.5841, 0.6989, 0.9729,  ..., 0.3734, 0.5894, 0.7900],\n",
      "         ...,\n",
      "         [0.3454, 0.6604, 0.3419,  ..., 0.7306, 0.8557, 0.6846],\n",
      "         [0.2235, 0.6263, 0.0029,  ..., 0.4570, 0.7847, 0.3169],\n",
      "         [0.6638, 0.2689, 0.8670,  ..., 0.8674, 0.6034, 0.8715]],\n",
      "\n",
      "        [[0.0408, 0.6994, 0.3302,  ..., 0.9984, 0.1768, 0.8701],\n",
      "         [0.2733, 0.1093, 0.2743,  ..., 0.1343, 0.7728, 0.4239],\n",
      "         [0.9506, 0.6231, 0.8127,  ..., 0.3504, 0.2820, 0.8549],\n",
      "         ...,\n",
      "         [0.2064, 0.5172, 0.2239,  ..., 0.2186, 0.3874, 0.4904],\n",
      "         [0.0151, 0.2763, 0.7898,  ..., 0.4081, 0.3487, 0.2011],\n",
      "         [0.9705, 0.3511, 0.4980,  ..., 0.9582, 0.4132, 0.1471]],\n",
      "\n",
      "        [[0.4402, 0.1101, 0.8026,  ..., 0.3450, 0.1390, 0.6512],\n",
      "         [0.5540, 0.0424, 0.8322,  ..., 0.1262, 0.4758, 0.4750],\n",
      "         [0.7401, 0.0286, 0.2674,  ..., 0.8560, 0.1543, 0.9922],\n",
      "         ...,\n",
      "         [0.1875, 0.4040, 0.2656,  ..., 0.5314, 0.4318, 0.9319],\n",
      "         [0.1487, 0.0906, 0.4120,  ..., 0.0760, 0.4268, 0.7097],\n",
      "         [0.1369, 0.5584, 0.4082,  ..., 0.2365, 0.7744, 0.0432]]])\n",
      "torch.Size([3, 224, 224])\n"
     ]
    }
   ],
   "source": [
    "x_original = torch.rand(size=(224, 224, 3))\n",
    "print(x_original)\n",
    "print(x_original.shape)\n",
    "x_permuted = x_original.permute(2, 0, 1)\n",
    "print(x_permuted)\n",
    "print(x_permuted.shape)"
   ]
  },
  {
   "cell_type": "code",
   "execution_count": 89,
   "id": "f3ee7eb6",
   "metadata": {},
   "outputs": [
    {
     "name": "stdout",
     "output_type": "stream",
     "text": [
      "tensor([[[1, 2, 3],\n",
      "         [4, 5, 6],\n",
      "         [7, 8, 9]]])\n",
      "torch.Size([1, 3, 3])\n",
      "\n",
      "0, 1, 2\n",
      "tensor([[[1, 2, 3],\n",
      "         [4, 5, 6],\n",
      "         [7, 8, 9]]])\n",
      "torch.Size([1, 3, 3])\n",
      "\n",
      "0, 2, 1\n",
      "tensor([[[1, 4, 7],\n",
      "         [2, 5, 8],\n",
      "         [3, 6, 9]]])\n",
      "torch.Size([1, 3, 3])\n",
      "\n",
      "1, 2, 0\n",
      "tensor([[[1],\n",
      "         [2],\n",
      "         [3]],\n",
      "\n",
      "        [[4],\n",
      "         [5],\n",
      "         [6]],\n",
      "\n",
      "        [[7],\n",
      "         [8],\n",
      "         [9]]])\n",
      "torch.Size([3, 3, 1])\n"
     ]
    }
   ],
   "source": [
    "x = torch.arange(1, 10).reshape(1, 3, 3) # reshape(batch-size, row, column)\n",
    "print(x)\n",
    "print(x.shape)\n",
    "\n",
    "y = x.permute(0, 1, 2)\n",
    "print('\\n0, 1, 2')\n",
    "print(y)\n",
    "print(y.shape)\n",
    "\n",
    "y = x.permute(0, 2, 1)\n",
    "print('\\n0, 2, 1')\n",
    "print(y)\n",
    "print(y.shape)\n",
    "\n",
    "y = x.permute(1, 2, 0)\n",
    "print('\\n1, 2, 0')\n",
    "print(y)\n",
    "print(y.shape)"
   ]
  },
  {
   "cell_type": "code",
   "execution_count": 110,
   "id": "814c4e4f",
   "metadata": {},
   "outputs": [
    {
     "name": "stdout",
     "output_type": "stream",
     "text": [
      "tensor([[[1, 2, 3],\n",
      "         [4, 5, 6],\n",
      "         [7, 8, 9]]])\n",
      "torch.Size([1, 3, 3])\n",
      "\n",
      "\n",
      "tensor([[1, 2, 3],\n",
      "        [4, 5, 6],\n",
      "        [7, 8, 9]])\n",
      "torch.Size([3, 3])\n",
      "tensor([[1, 4, 7],\n",
      "        [2, 5, 8],\n",
      "        [3, 6, 9]])\n"
     ]
    }
   ],
   "source": [
    "x = torch.arange(1, 10).reshape(1, 3, 3) # reshape(batch-size, row, column)\n",
    "print(x)\n",
    "print(x.shape)\n",
    "print('\\n')\n",
    "y = x.squeeze(0)\n",
    "print(y)\n",
    "print(y.shape)\n",
    "print(y.permute(1, 0))"
   ]
  },
  {
   "cell_type": "code",
   "execution_count": 123,
   "id": "0f691c59",
   "metadata": {},
   "outputs": [
    {
     "name": "stdout",
     "output_type": "stream",
     "text": [
      "tensor([[[1, 2, 3],\n",
      "         [4, 5, 6],\n",
      "         [7, 8, 9]]])\n",
      "tensor([[1, 2, 3]])\n",
      "tensor([[1, 4, 7]])\n",
      "tensor([[1, 2, 3],\n",
      "        [4, 5, 6],\n",
      "        [7, 8, 9]])\n",
      "tensor([1, 4, 7])\n",
      "tensor([1, 2, 3])\n"
     ]
    }
   ],
   "source": [
    "x = torch.arange(1, 10).reshape(1, 3, 3) # reshape(batch-size, row, column)\n",
    "print(x)\n",
    "print(x[:, 0])\n",
    "print(x[:, :, 0])\n",
    "y = x.squeeze(0)\n",
    "print(y)\n",
    "print(y[:, 0]) # all rows 0th column\n",
    "print(y[0, :]) # 0th row all column"
   ]
  }
 ],
 "metadata": {
  "kernelspec": {
   "display_name": "venv",
   "language": "python",
   "name": "python3"
  },
  "language_info": {
   "codemirror_mode": {
    "name": "ipython",
    "version": 3
   },
   "file_extension": ".py",
   "mimetype": "text/x-python",
   "name": "python",
   "nbconvert_exporter": "python",
   "pygments_lexer": "ipython3",
   "version": "3.10.11"
  }
 },
 "nbformat": 4,
 "nbformat_minor": 5
}
